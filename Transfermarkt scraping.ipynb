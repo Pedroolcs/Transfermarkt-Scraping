{
 "cells": [
  {
   "cell_type": "code",
   "execution_count": 1,
   "id": "9aa46ea8-d441-4ff4-9361-1c745f976606",
   "metadata": {},
   "outputs": [],
   "source": [
    "import re\n",
    "import requests\n",
    "\n",
    "from bs4 import BeautifulSoup"
   ]
  },
  {
   "cell_type": "code",
   "execution_count": 2,
   "id": "74cbff16-6a16-40d7-ab1b-926af6b6cd39",
   "metadata": {},
   "outputs": [],
   "source": [
    "url = 'https://www.transfermarkt.com/nicolas-de-la-cruz/profil/spieler/397458'\n",
    "player_id = url.split('/')[-1]"
   ]
  },
  {
   "cell_type": "code",
   "execution_count": 3,
   "id": "27e4a432-01b2-445e-835e-755f152a75f3",
   "metadata": {},
   "outputs": [],
   "source": [
    "headers = {\n",
    "    \"User-Agent\": \"Mozilla/5.0 (Windows NT 10.0; Win64; x64; rv:122.0) Gecko/20100101 Firefox/122.0\"\n",
    "}"
   ]
  },
  {
   "cell_type": "code",
   "execution_count": 4,
   "id": "8a56d8dd-a1fe-40bb-9814-aee631eaa701",
   "metadata": {},
   "outputs": [],
   "source": [
    "response = requests.get(url, headers=headers)"
   ]
  },
  {
   "cell_type": "code",
   "execution_count": 6,
   "id": "bbf95e11-6fb1-4a9c-bf59-08895466260a",
   "metadata": {},
   "outputs": [
    {
     "data": {
      "text/plain": [
       "200"
      ]
     },
     "execution_count": 6,
     "metadata": {},
     "output_type": "execute_result"
    }
   ],
   "source": [
    "response.status_code"
   ]
  },
  {
   "cell_type": "code",
   "execution_count": 7,
   "id": "8585d541-539d-4039-bafd-861031a2baa9",
   "metadata": {},
   "outputs": [],
   "source": [
    "soup = BeautifulSoup(response.content, \"html.parser\")"
   ]
  },
  {
   "cell_type": "code",
   "execution_count": 12,
   "id": "bf90bf20-aa0c-40b9-82f2-a48686b811a5",
   "metadata": {},
   "outputs": [],
   "source": [
    "player_name = soup.select_one('h1[class=\"data-header__headline-wrapper\"]').text.split('\\n')[-1].strip()"
   ]
  },
  {
   "cell_type": "code",
   "execution_count": 13,
   "id": "e77e70c2-f198-41b4-8e25-937936c6f8e8",
   "metadata": {},
   "outputs": [
    {
     "data": {
      "text/plain": [
       "'Nicolás de la Cruz'"
      ]
     },
     "execution_count": 13,
     "metadata": {},
     "output_type": "execute_result"
    }
   ],
   "source": [
    "player_name"
   ]
  },
  {
   "cell_type": "code",
   "execution_count": 17,
   "id": "e4219e50-4346-4c12-8a9d-1b1c2993810a",
   "metadata": {},
   "outputs": [],
   "source": [
    "player_number = soup.select_one('span[class=\"data-header__shirt-number\"]').text.replace('#', '').strip()"
   ]
  },
  {
   "cell_type": "code",
   "execution_count": 19,
   "id": "b100f227-3af9-4b8f-8b1a-37166c618cf1",
   "metadata": {},
   "outputs": [
    {
     "data": {
      "text/plain": [
       "18"
      ]
     },
     "execution_count": 19,
     "metadata": {},
     "output_type": "execute_result"
    }
   ],
   "source": [
    "int(player_number)"
   ]
  },
  {
   "cell_type": "code",
   "execution_count": 21,
   "id": "7b7c142d-c301-474d-a057-c25310f78cb5",
   "metadata": {},
   "outputs": [],
   "source": [
    "player_position = re.search(\"Position:</span>\\s*<span.*?>\\s*(.*?)\\s*</span>\", str(soup)).group(1)"
   ]
  },
  {
   "cell_type": "code",
   "execution_count": 22,
   "id": "fce79265-4700-40dd-8c06-6fd0fc858f88",
   "metadata": {},
   "outputs": [
    {
     "data": {
      "text/plain": [
       "'midfield - Attacking Midfield'"
      ]
     },
     "execution_count": 22,
     "metadata": {},
     "output_type": "execute_result"
    }
   ],
   "source": [
    "player_position"
   ]
  },
  {
   "cell_type": "code",
   "execution_count": 23,
   "id": "dc309398-eaf8-4aee-bbdd-595b9c624c0d",
   "metadata": {},
   "outputs": [],
   "source": [
    "response = requests.get(\n",
    "    f'https://www.transfermarkt.com/ceapi/marketValueDevelopment/graph/{player_id}',\n",
    "    headers=headers,\n",
    ")"
   ]
  },
  {
   "cell_type": "code",
   "execution_count": 24,
   "id": "4125403a-9299-4ebd-9b98-b3164c2840f0",
   "metadata": {},
   "outputs": [
    {
     "data": {
      "text/plain": [
       "200"
      ]
     },
     "execution_count": 24,
     "metadata": {},
     "output_type": "execute_result"
    }
   ],
   "source": [
    "response.status_code"
   ]
  },
  {
   "cell_type": "code",
   "execution_count": 27,
   "id": "82dededc-74a1-4eae-a9c9-ebcdedc7cc6e",
   "metadata": {},
   "outputs": [
    {
     "data": {
      "text/plain": [
       "{'list': [{'x': 1439503200000,\n",
       "   'y': 75000,\n",
       "   'mw': '€75k',\n",
       "   'datum_mw': 'Aug 14, 2015',\n",
       "   'verein': 'Liverpool FC Montevideo',\n",
       "   'age': '18',\n",
       "   'wappen': 'https://tmssl.akamaized.net/images/wappen/profil/10663.png?lm=1415018098'},\n",
       "  {'x': 1456354800000,\n",
       "   'y': 350000,\n",
       "   'mw': '€350k',\n",
       "   'datum_mw': 'Feb 25, 2016',\n",
       "   'verein': 'Liverpool FC Montevideo',\n",
       "   'age': '18',\n",
       "   'wappen': ''},\n",
       "  {'x': 1473372000000,\n",
       "   'y': 650000,\n",
       "   'mw': '€650k',\n",
       "   'datum_mw': 'Sep 9, 2016',\n",
       "   'verein': 'Liverpool FC Montevideo',\n",
       "   'age': '19',\n",
       "   'wappen': ''},\n",
       "  {'x': 1487718000000,\n",
       "   'y': 1500000,\n",
       "   'mw': '€1.50m',\n",
       "   'datum_mw': 'Feb 22, 2017',\n",
       "   'verein': 'Liverpool FC Montevideo',\n",
       "   'age': '19',\n",
       "   'wappen': ''},\n",
       "  {'x': 1507500000000,\n",
       "   'y': 5000000,\n",
       "   'mw': '€5.00m',\n",
       "   'datum_mw': 'Oct 9, 2017',\n",
       "   'verein': 'CA River Plate',\n",
       "   'age': '20',\n",
       "   'wappen': 'https://tmssl.akamaized.net/images/wappen/profil/15108_1672923846.png?lm=1672923847'},\n",
       "  {'x': 1525730400000,\n",
       "   'y': 4000000,\n",
       "   'mw': '€4.00m',\n",
       "   'datum_mw': 'May 8, 2018',\n",
       "   'verein': 'CA River Plate',\n",
       "   'age': '20',\n",
       "   'wappen': ''},\n",
       "  {'x': 1545087600000,\n",
       "   'y': 3500000,\n",
       "   'mw': '€3.50m',\n",
       "   'datum_mw': 'Dec 18, 2018',\n",
       "   'verein': 'CA River Plate',\n",
       "   'age': '21',\n",
       "   'wappen': ''},\n",
       "  {'x': 1565042400000,\n",
       "   'y': 6000000,\n",
       "   'mw': '€6.00m',\n",
       "   'datum_mw': 'Aug 6, 2019',\n",
       "   'verein': 'CA River Plate',\n",
       "   'age': '22',\n",
       "   'wappen': ''},\n",
       "  {'x': 1575500400000,\n",
       "   'y': 15000000,\n",
       "   'mw': '€15.00m',\n",
       "   'datum_mw': 'Dec 5, 2019',\n",
       "   'verein': 'CA River Plate',\n",
       "   'age': '22',\n",
       "   'wappen': ''},\n",
       "  {'x': 1586296800000,\n",
       "   'y': 12000000,\n",
       "   'mw': '€12.00m',\n",
       "   'datum_mw': 'Apr 8, 2020',\n",
       "   'verein': 'CA River Plate',\n",
       "   'age': '22',\n",
       "   'wappen': ''},\n",
       "  {'x': 1612738800000,\n",
       "   'y': 18000000,\n",
       "   'mw': '€18.00m',\n",
       "   'datum_mw': 'Feb 8, 2021',\n",
       "   'verein': 'CA River Plate',\n",
       "   'age': '23',\n",
       "   'wappen': ''},\n",
       "  {'x': 1623362400000,\n",
       "   'y': 18000000,\n",
       "   'mw': '€18.00m',\n",
       "   'datum_mw': 'Jun 11, 2021',\n",
       "   'verein': 'CA River Plate',\n",
       "   'age': '24',\n",
       "   'wappen': ''},\n",
       "  {'x': 1634680800000,\n",
       "   'y': 18000000,\n",
       "   'mw': '€18.00m',\n",
       "   'datum_mw': 'Oct 20, 2021',\n",
       "   'verein': 'CA River Plate',\n",
       "   'age': '24',\n",
       "   'wappen': ''},\n",
       "  {'x': 1644274800000,\n",
       "   'y': 16000000,\n",
       "   'mw': '€16.00m',\n",
       "   'datum_mw': 'Feb 8, 2022',\n",
       "   'verein': 'CA River Plate',\n",
       "   'age': '24',\n",
       "   'wappen': ''},\n",
       "  {'x': 1653343200000,\n",
       "   'y': 13000000,\n",
       "   'mw': '€13.00m',\n",
       "   'datum_mw': 'May 24, 2022',\n",
       "   'verein': 'CA River Plate',\n",
       "   'age': '24',\n",
       "   'wappen': ''},\n",
       "  {'x': 1666735200000,\n",
       "   'y': 13000000,\n",
       "   'mw': '€13.00m',\n",
       "   'datum_mw': 'Oct 26, 2022',\n",
       "   'verein': 'CA River Plate',\n",
       "   'age': '25',\n",
       "   'wappen': ''},\n",
       "  {'x': 1680645600000,\n",
       "   'y': 11000000,\n",
       "   'mw': '€11.00m',\n",
       "   'datum_mw': 'Apr 5, 2023',\n",
       "   'verein': 'CA River Plate',\n",
       "   'age': '25',\n",
       "   'wappen': ''},\n",
       "  {'x': 1688421600000,\n",
       "   'y': 11000000,\n",
       "   'mw': '€11.00m',\n",
       "   'datum_mw': 'Jul 4, 2023',\n",
       "   'verein': 'CA River Plate',\n",
       "   'age': '26',\n",
       "   'wappen': ''},\n",
       "  {'x': 1702940400000,\n",
       "   'y': 14000000,\n",
       "   'mw': '€14.00m',\n",
       "   'datum_mw': 'Dec 19, 2023',\n",
       "   'verein': 'CA River Plate',\n",
       "   'age': '26',\n",
       "   'wappen': 'https://tmssl.akamaized.net/images/wappen/profil/209.png?lm=1645539487'}],\n",
       " 'current': '€14.00m',\n",
       " 'highest': '€18.00m',\n",
       " 'highest_date': 'Feb 8, 2021',\n",
       " 'last_change': 'Dec 19, 2023',\n",
       " 'details_url': '/nicolas-de-la-cruz/marktwertverlauf/spieler/397458',\n",
       " 'thread': {'url': '', 'thread_title': '', 'count_replies': ''},\n",
       " 'translations': {'market value': 'Market value',\n",
       "  'team': 'Club',\n",
       "  'age': 'Age',\n",
       "  'resetZoom': 'Vollansicht',\n",
       "  'current': 'Current Market Value\\n\\n',\n",
       "  'highest': 'Highest market value',\n",
       "  'thread': 'View market value analysis',\n",
       "  'forum': 'Forum',\n",
       "  'details': 'Market value details',\n",
       "  'headline': 'Market value over time',\n",
       "  'lastChange': 'Last update'}}"
      ]
     },
     "execution_count": 27,
     "metadata": {},
     "output_type": "execute_result"
    }
   ],
   "source": [
    "response.json()"
   ]
  },
  {
   "cell_type": "code",
   "execution_count": 28,
   "id": "7e9131d8-3284-4323-8ed8-2685a1433b35",
   "metadata": {},
   "outputs": [
    {
     "data": {
      "text/plain": [
       "dict_keys(['list', 'current', 'highest', 'highest_date', 'last_change', 'details_url', 'thread', 'translations'])"
      ]
     },
     "execution_count": 28,
     "metadata": {},
     "output_type": "execute_result"
    }
   ],
   "source": [
    "response.json().keys()"
   ]
  },
  {
   "cell_type": "code",
   "execution_count": null,
   "id": "60bf4d19-e9b4-4d0a-ab64-7915f76ec86d",
   "metadata": {},
   "outputs": [],
   "source": []
  }
 ],
 "metadata": {
  "kernelspec": {
   "display_name": "Python 3 (ipykernel)",
   "language": "python",
   "name": "python3"
  },
  "language_info": {
   "codemirror_mode": {
    "name": "ipython",
    "version": 3
   },
   "file_extension": ".py",
   "mimetype": "text/x-python",
   "name": "python",
   "nbconvert_exporter": "python",
   "pygments_lexer": "ipython3",
   "version": "3.11.2"
  }
 },
 "nbformat": 4,
 "nbformat_minor": 5
}
